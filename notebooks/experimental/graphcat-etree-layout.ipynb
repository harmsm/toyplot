{
 "cells": [
  {
   "cell_type": "markdown",
   "id": "3143f747",
   "metadata": {},
   "source": [
    "**What Does The API Do?**\n",
    "\n",
    "* Generate / modify a graphcat network that will render the figure when executed.\n",
    "\n",
    "**What Does The Network Do?**\n",
    "\n",
    "* Assign canvas coordinates to coordinate systems / canvas marks (box layout).\n",
    "* Assign coordinates to text (text layout - special case of box layout?).\n",
    "* Map data to coordinates (for some coordinate systems, e.g. Table, this might use box layout).\n",
    "* Generate an SVG DOM."
   ]
  },
  {
   "cell_type": "code",
   "execution_count": 1,
   "id": "cc4e651b",
   "metadata": {},
   "outputs": [],
   "source": [
    "import xml.etree.ElementTree as xml\n",
    "\n",
    "from IPython.display import display_svg\n",
    "\n",
    "import boxcat\n",
    "import domcat\n",
    "import graphcat.notebook"
   ]
  },
  {
   "cell_type": "code",
   "execution_count": 2,
   "id": "9ed21440",
   "metadata": {},
   "outputs": [],
   "source": [
    "def render(graph, name, inputs):\n",
    "    root = inputs.getone(None)\n",
    "    top, right, bottom, left = root.get(\"boxcat:content\")\n",
    "    width = right - left\n",
    "    height = bottom - top\n",
    "    svg_root = xml.Element(\"svg\", xmlns=\"http://www.w3.org/2000/svg\",\n",
    "        width=width,\n",
    "        height=height,\n",
    "        viewBox=f\"0 0 {width} {height}\",\n",
    "        )\n",
    "    render_element(root, svg_root)\n",
    "    return svg_root\n",
    "\n",
    "\n",
    "def render_element(element, svg_root):\n",
    "    top, right, bottom, left = element.get(\"boxcat:content\")\n",
    "    svg_element = xml.SubElement(svg_root, \"rect\", x=left, y=top, width=right-left, height=bottom-top, stroke=\"rgba(0,0,255,0.4)\", fill=\"none\")\n",
    "    svg_element = xml.SubElement(svg_root, \"text\", x=left+2, y=top, style=\"font-size: 8px; fill: rgba(0,0,255,0.4); dominant-baseline: hanging\")\n",
    "    svg_element.text = element.tag\n",
    "\n",
    "    for child in element:\n",
    "        render_element(child, svg_root)"
   ]
  },
  {
   "cell_type": "code",
   "execution_count": 3,
   "id": "aec611fb",
   "metadata": {},
   "outputs": [],
   "source": [
    "graph = graphcat.StaticGraph()\n",
    "graph.add_task(\"canvas\", domcat.create_element(\"canvas\", width=200, height=100))\n",
    "graph.add_task(\"axes1\", domcat.create_element(\"cartesian\", margin=\"10px\", padding=\"5px\"))\n",
    "graph.add_task(\"append1\", domcat.append_element)\n",
    "graph.add_links(\"canvas\", (\"append1\", \"parent\"))\n",
    "graph.add_links(\"axes1\", (\"append1\", \"child\"))\n",
    "\n",
    "# graph.add_task(\"axes2\", domcat.create_element(\"radial\", left=\"50%\"))\n",
    "# graph.add_task(\"append2\", domcat.append_element)\n",
    "# graph.add_links(\"append1\", (\"append2\", \"parent\"))\n",
    "# graph.add_links(\"axes2\", (\"append2\", \"child\"))\n",
    "\n",
    "graph.add_task(\"layout\", boxcat.graphcat_layout)\n",
    "graph.add_links(\"append1\", \"layout\")\n",
    "\n",
    "graph.add_task(\"render\", render)\n",
    "graph.add_links(\"layout\", \"render\")"
   ]
  },
  {
   "cell_type": "code",
   "execution_count": 4,
   "id": "829dff2f",
   "metadata": {},
   "outputs": [
    {
     "data": {
      "image/svg+xml": [
       "<svg xmlns=\"http://www.w3.org/2000/svg\" xmlns:xlink=\"http://www.w3.org/1999/xlink\" width=\"300pt\" height=\"56pt\" viewBox=\"0.00 0.00 300.00 56.00\">\n",
       "<g id=\"graph0\" class=\"graph\" transform=\"scale(1 1) rotate(0) translate(4 52)\">\n",
       "<polygon fill=\"#ffffff\" stroke=\"transparent\" points=\"-4,4 -4,-52 296,-52 296,4 -4,4\"/>\n",
       "<!-- canvas -->\n",
       "<g id=\"node1\" class=\"node\">\n",
       "<title>canvas</title>\n",
       "<polygon fill=\"#ffffff\" stroke=\"#494744\" points=\"38,-48 0,-48 0,-33 38,-33 38,-48\"/>\n",
       "<text text-anchor=\"middle\" x=\"19\" y=\"-38.6\" font-family=\"Helvetica,sans-Serif\" font-size=\"8.00\" fill=\"#494744\">canvas</text>\n",
       "</g>\n",
       "<!-- append1 -->\n",
       "<g id=\"node2\" class=\"node\">\n",
       "<title>append1</title>\n",
       "<polygon fill=\"#ffffff\" stroke=\"#494744\" points=\"144,-31 100,-31 100,-16 144,-16 144,-31\"/>\n",
       "<text text-anchor=\"middle\" x=\"122\" y=\"-21.6\" font-family=\"Helvetica,sans-Serif\" font-size=\"8.00\" fill=\"#494744\">append1</text>\n",
       "</g>\n",
       "<!-- canvas&#45;&gt;append1 -->\n",
       "<g id=\"edge1\" class=\"edge\">\n",
       "<title>canvas-&gt;append1</title>\n",
       "<path fill=\"none\" stroke=\"#494744\" d=\"M38.3735,-37.3024C52.8511,-34.9129 72.9684,-31.5926 89.8437,-28.8074\"/>\n",
       "<polygon fill=\"#494744\" stroke=\"#494744\" points=\"90.556,-32.2372 99.8525,-27.1554 89.416,-25.3307 90.556,-32.2372\"/>\n",
       "<text text-anchor=\"middle\" x=\"69\" y=\"-37.1\" font-family=\"Helvetica,sans-Serif\" font-size=\"8.00\" fill=\"#000000\">  parent  </text>\n",
       "</g>\n",
       "<!-- layout -->\n",
       "<g id=\"node4\" class=\"node\">\n",
       "<title>layout</title>\n",
       "<polygon fill=\"#ffffff\" stroke=\"#494744\" points=\"217,-31 183,-31 183,-16 217,-16 217,-31\"/>\n",
       "<text text-anchor=\"middle\" x=\"200\" y=\"-21.6\" font-family=\"Helvetica,sans-Serif\" font-size=\"8.00\" fill=\"#494744\">layout</text>\n",
       "</g>\n",
       "<!-- append1&#45;&gt;layout -->\n",
       "<g id=\"edge3\" class=\"edge\">\n",
       "<title>append1-&gt;layout</title>\n",
       "<path fill=\"none\" stroke=\"#494744\" d=\"M144.143,-23.5C153.044,-23.5 163.3955,-23.5 172.7517,-23.5\"/>\n",
       "<polygon fill=\"#494744\" stroke=\"#494744\" points=\"172.7619,-27.0001 182.7618,-23.5 172.7618,-20.0001 172.7619,-27.0001\"/>\n",
       "<text text-anchor=\"middle\" x=\"163.5\" y=\"-26.1\" font-family=\"Helvetica,sans-Serif\" font-size=\"8.00\" fill=\"#000000\">    </text>\n",
       "</g>\n",
       "<!-- axes1 -->\n",
       "<g id=\"node3\" class=\"node\">\n",
       "<title>axes1</title>\n",
       "<polygon fill=\"#ffffff\" stroke=\"#494744\" points=\"36,-15 2,-15 2,0 36,0 36,-15\"/>\n",
       "<text text-anchor=\"middle\" x=\"19\" y=\"-5.6\" font-family=\"Helvetica,sans-Serif\" font-size=\"8.00\" fill=\"#494744\">axes1</text>\n",
       "</g>\n",
       "<!-- axes1&#45;&gt;append1 -->\n",
       "<g id=\"edge2\" class=\"edge\">\n",
       "<title>axes1-&gt;append1</title>\n",
       "<path fill=\"none\" stroke=\"#494744\" d=\"M36.2689,-6.4761C49.6876,-6.051 68.6961,-6.2627 85,-9.5 88.543,-10.2035 92.1919,-11.2088 95.7536,-12.3623\"/>\n",
       "<polygon fill=\"#494744\" stroke=\"#494744\" points=\"94.8065,-15.7423 105.4005,-15.8777 97.2033,-9.1654 94.8065,-15.7423\"/>\n",
       "<text text-anchor=\"middle\" x=\"69\" y=\"-12.1\" font-family=\"Helvetica,sans-Serif\" font-size=\"8.00\" fill=\"#000000\">  child  </text>\n",
       "</g>\n",
       "<!-- render -->\n",
       "<g id=\"node5\" class=\"node\">\n",
       "<title>render</title>\n",
       "<polygon fill=\"#ffffff\" stroke=\"#494744\" points=\"292,-31 256,-31 256,-16 292,-16 292,-31\"/>\n",
       "<text text-anchor=\"middle\" x=\"274\" y=\"-21.6\" font-family=\"Helvetica,sans-Serif\" font-size=\"8.00\" fill=\"#494744\">render</text>\n",
       "</g>\n",
       "<!-- layout&#45;&gt;render -->\n",
       "<g id=\"edge4\" class=\"edge\">\n",
       "<title>layout-&gt;render</title>\n",
       "<path fill=\"none\" stroke=\"#494744\" d=\"M217.1631,-23.5C225.6916,-23.5 236.2165,-23.5 245.882,-23.5\"/>\n",
       "<polygon fill=\"#494744\" stroke=\"#494744\" points=\"245.8976,-27.0001 255.8976,-23.5 245.8975,-20.0001 245.8976,-27.0001\"/>\n",
       "<text text-anchor=\"middle\" x=\"236.5\" y=\"-26.1\" font-family=\"Helvetica,sans-Serif\" font-size=\"8.00\" fill=\"#000000\">    </text>\n",
       "</g>\n",
       "</g>\n",
       "</svg>"
      ],
      "text/plain": [
       "<IPython.core.display.SVG object>"
      ]
     },
     "metadata": {},
     "output_type": "display_data"
    }
   ],
   "source": [
    "graphcat.notebook.display(graph)"
   ]
  },
  {
   "cell_type": "code",
   "execution_count": 5,
   "id": "d1fa06dd",
   "metadata": {},
   "outputs": [
    {
     "name": "stdout",
     "output_type": "stream",
     "text": [
      "<canvas width=\"200\" height=\"100\">\n",
      "  <cartesian margin=\"10px\" padding=\"5px\"/>\n",
      "</canvas>\n"
     ]
    }
   ],
   "source": [
    "domcat.dump(graph.output(\"append1\"))"
   ]
  },
  {
   "cell_type": "code",
   "execution_count": 6,
   "id": "85047669",
   "metadata": {},
   "outputs": [
    {
     "name": "stdout",
     "output_type": "stream",
     "text": [
      "<canvas width=\"200\" height=\"100\" boxcat:content=\"(0, 200.0, 100.0, 0)\">\n",
      "  <cartesian margin=\"10px\" padding=\"5px\" boxcat:content=\"(15.0, 185.0, 85.0, 15.0)\"/>\n",
      "</canvas>\n"
     ]
    }
   ],
   "source": [
    "domcat.dump(graph.output(\"layout\"))"
   ]
  },
  {
   "cell_type": "code",
   "execution_count": 7,
   "id": "a11e6806",
   "metadata": {},
   "outputs": [
    {
     "name": "stdout",
     "output_type": "stream",
     "text": [
      "<svg xmlns=\"http://www.w3.org/2000/svg\" width=\"200.0\" height=\"100.0\" viewBox=\"0 0 200.0 100.0\">\n",
      "  <rect x=\"0\" y=\"0\" width=\"200.0\" height=\"100.0\" stroke=\"rgba(0,0,255,0.4)\" fill=\"none\"/>\n",
      "  <text x=\"2\" y=\"0\" style=\"font-size: 8px; fill: rgba(0,0,255,0.4); dominant-baseline: hanging\">\n",
      "    canvas\n",
      "  </text>\n",
      "  <rect x=\"15.0\" y=\"15.0\" width=\"170.0\" height=\"70.0\" stroke=\"rgba(0,0,255,0.4)\" fill=\"none\"/>\n",
      "  <text x=\"17.0\" y=\"15.0\" style=\"font-size: 8px; fill: rgba(0,0,255,0.4); dominant-baseline: hanging\">\n",
      "    cartesian\n",
      "  </text>\n",
      "</svg>\n"
     ]
    }
   ],
   "source": [
    "domcat.dump(graph.output(\"render\"))"
   ]
  },
  {
   "cell_type": "code",
   "execution_count": 8,
   "id": "7e3cade8",
   "metadata": {},
   "outputs": [
    {
     "data": {
      "image/svg+xml": [
       "<svg xmlns=\"http://www.w3.org/2000/svg\" width=\"200.0\" height=\"100.0\" viewBox=\"0 0 200.0 100.0\"><rect x=\"0\" y=\"0\" width=\"200.0\" height=\"100.0\" stroke=\"rgba(0,0,255,0.4)\" fill=\"none\"/><text x=\"2\" y=\"0\" style=\"font-size: 8px; fill: rgba(0,0,255,0.4); dominant-baseline: hanging\">canvas</text><rect x=\"15.0\" y=\"15.0\" width=\"170.0\" height=\"70.0\" stroke=\"rgba(0,0,255,0.4)\" fill=\"none\"/><text x=\"17.0\" y=\"15.0\" style=\"font-size: 8px; fill: rgba(0,0,255,0.4); dominant-baseline: hanging\">cartesian</text></svg>"
      ]
     },
     "metadata": {},
     "output_type": "display_data"
    }
   ],
   "source": [
    "display_svg(domcat.tostring(graph.output(\"render\")), raw=True)"
   ]
  }
 ],
 "metadata": {
  "kernelspec": {
   "display_name": "Python 3 (ipykernel)",
   "language": "python",
   "name": "python3"
  },
  "language_info": {
   "codemirror_mode": {
    "name": "ipython",
    "version": 3
   },
   "file_extension": ".py",
   "mimetype": "text/x-python",
   "name": "python",
   "nbconvert_exporter": "python",
   "pygments_lexer": "ipython3",
   "version": "3.8.2"
  }
 },
 "nbformat": 4,
 "nbformat_minor": 5
}
